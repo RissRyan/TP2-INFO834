{
 "cells": [
  {
   "attachments": {},
   "cell_type": "markdown",
   "metadata": {},
   "source": [
    "# TP2 INFO834\n",
    "\n",
    "Par RISS Ryan\n",
    "\n",
    "Import des librairies :"
   ]
  },
  {
   "cell_type": "code",
   "execution_count": null,
   "metadata": {},
   "outputs": [],
   "source": [
    "import pyarrow.compute as pc\n",
    "import pyarrow.parquet as pq\n",
    "import pandas as pd\n",
    "import pyarrow as pa"
   ]
  },
  {
   "attachments": {},
   "cell_type": "markdown",
   "metadata": {},
   "source": [
    "### Dataframes"
   ]
  },
  {
   "cell_type": "code",
   "execution_count": 140,
   "metadata": {},
   "outputs": [],
   "source": [
    "villesDF = pd.read_csv('DATA/villes_virgule.csv')\n",
    "academiesDF = pd.read_csv('DATA/academies_virgule.csv')"
   ]
  },
  {
   "attachments": {},
   "cell_type": "markdown",
   "metadata": {},
   "source": [
    "## Exercice 1"
   ]
  },
  {
   "cell_type": "code",
   "execution_count": 125,
   "metadata": {},
   "outputs": [],
   "source": [
    "def fromDFToTable(df):\n",
    "    return pa.Table.from_pandas(df)"
   ]
  },
  {
   "cell_type": "code",
   "execution_count": 126,
   "metadata": {},
   "outputs": [],
   "source": [
    "def fromTableToDF(table):\n",
    "    return table.to_pandas()"
   ]
  },
  {
   "cell_type": "code",
   "execution_count": 147,
   "metadata": {},
   "outputs": [],
   "source": [
    "def fromTableToParquet(table, name):\n",
    "    pq.write_table(table, name)\n",
    "    return name"
   ]
  },
  {
   "cell_type": "code",
   "execution_count": 128,
   "metadata": {},
   "outputs": [],
   "source": [
    "def fromParquetToTable(parquetName):\n",
    "    return pq.read_table(parquetName)"
   ]
  },
  {
   "attachments": {},
   "cell_type": "markdown",
   "metadata": {},
   "source": [
    "### Tests"
   ]
  },
  {
   "cell_type": "code",
   "execution_count": 144,
   "metadata": {},
   "outputs": [],
   "source": [
    "tableVilles = fromDFToTable(villesDF)\n",
    "tableAcademies = fromDFToTable(academiesDF)\n",
    "\n",
    "#print(tableVilles)\n",
    "#print(tableAcademies)"
   ]
  },
  {
   "cell_type": "code",
   "execution_count": 145,
   "metadata": {},
   "outputs": [],
   "source": [
    "newDfVilles = fromTableToDF(tableVilles)\n",
    "newDfAcademies = fromTableToDF(tableAcademies)\n",
    "\n",
    "#print(newDfVilles.head())\n",
    "#print(newDfAcademies.head())"
   ]
  },
  {
   "cell_type": "code",
   "execution_count": 151,
   "metadata": {},
   "outputs": [],
   "source": [
    "nameParquetVilles = fromTableToParquet(tableVilles, 'villes.parquet')\n",
    "nameParquetAcademies = fromTableToParquet(tableAcademies, 'academies.parquet')\n",
    "\n",
    "tbVilles = fromParquetToTable(nameParquetVilles)\n",
    "tbAcademies = fromParquetToTable(nameParquetAcademies)\n",
    "\n",
    "#print(tbVilles)\n",
    "#print(tbAcademies)"
   ]
  },
  {
   "attachments": {},
   "cell_type": "markdown",
   "metadata": {},
   "source": [
    "## Exercice 2"
   ]
  },
  {
   "cell_type": "code",
   "execution_count": null,
   "metadata": {},
   "outputs": [],
   "source": [
    "def printSchemaTable(table):\n",
    "    df = table.to_pandas()\n",
    "    print(df)"
   ]
  },
  {
   "cell_type": "code",
   "execution_count": 154,
   "metadata": {},
   "outputs": [],
   "source": [
    "printSchemaTable(tableVilles)\n",
    "printSchemaTable(tableAcademies)"
   ]
  },
  {
   "attachments": {},
   "cell_type": "markdown",
   "metadata": {},
   "source": [
    "## Exercice 3"
   ]
  },
  {
   "cell_type": "code",
   "execution_count": 62,
   "metadata": {},
   "outputs": [],
   "source": [
    "def getColumnTable(table, column):\n",
    "    return table.column(column)"
   ]
  },
  {
   "cell_type": "code",
   "execution_count": 156,
   "metadata": {},
   "outputs": [
    {
     "data": {
      "text/plain": [
       "<pyarrow.lib.ChunkedArray object at 0x00000136953F6ED0>\n",
       "[\n",
       "  [\n",
       "    \"Ozan\",\n",
       "    \"Cormoranche-sur-Saône\",\n",
       "    \"Plagne\",\n",
       "    \"Tossiat\",\n",
       "    \"Pouillat\",\n",
       "    ...\n",
       "    \"Sada\",\n",
       "    \"Tsingoni\",\n",
       "    \"Saint-Barthélemy\",\n",
       "    \"Saint-Martin\",\n",
       "    \"Saint-Pierre-et-Miquelon\"\n",
       "  ]\n",
       "]"
      ]
     },
     "execution_count": 156,
     "metadata": {},
     "output_type": "execute_result"
    }
   ],
   "source": [
    "getColumnTable(tableVilles, 'nom')"
   ]
  },
  {
   "attachments": {},
   "cell_type": "markdown",
   "metadata": {},
   "source": [
    "## Exercice 4"
   ]
  },
  {
   "cell_type": "code",
   "execution_count": 157,
   "metadata": {},
   "outputs": [],
   "source": [
    "def getSumColumn(columnTable):\n",
    "    return pc.sum(columnTable)"
   ]
  },
  {
   "cell_type": "code",
   "execution_count": 158,
   "metadata": {},
   "outputs": [],
   "source": [
    "def getMinColumn(columnTable):\n",
    "    return pc.min(columnTable)"
   ]
  },
  {
   "cell_type": "code",
   "execution_count": 159,
   "metadata": {},
   "outputs": [],
   "source": [
    "def getMaxColumn(columnTable):\n",
    "    return pc.max(columnTable)"
   ]
  },
  {
   "cell_type": "code",
   "execution_count": 160,
   "metadata": {},
   "outputs": [],
   "source": [
    "def getCountColumn(columTable):\n",
    "    return pc.count(columTable)"
   ]
  },
  {
   "cell_type": "code",
   "execution_count": 161,
   "metadata": {},
   "outputs": [],
   "source": [
    "def getDistinctCountColumn(columnTable):\n",
    "    return pc.count_distinct(columnTable)"
   ]
  },
  {
   "cell_type": "code",
   "execution_count": 162,
   "metadata": {},
   "outputs": [
    {
     "name": "stdout",
     "output_type": "stream",
     "text": [
      "Sum : 64886015\n",
      "Min : 0\n",
      "Max : 2243833\n",
      "Count : 36700\n",
      "Count distinct : 5666\n"
     ]
    }
   ],
   "source": [
    "column =  getColumnTable(tableVilles, 'nb_hab_2010')\n",
    "\n",
    "print(\"Sum : \" + str(getSumColumn(column)))\n",
    "print(\"Min : \" + str(getMinColumn(column)))\n",
    "print(\"Max : \" + str(getMaxColumn(column)))\n",
    "print(\"Count : \" + str(getCountColumn(column)))\n",
    "print(\"Count distinct : \" + str(getDistinctCountColumn(column)))"
   ]
  },
  {
   "attachments": {},
   "cell_type": "markdown",
   "metadata": {},
   "source": [
    "## Exercice 5"
   ]
  },
  {
   "cell_type": "code",
   "execution_count": 163,
   "metadata": {},
   "outputs": [],
   "source": [
    "def informationCity(table, cityName):\n",
    "    return table.filter(pa.compute.equal(table['nom'], cityName))"
   ]
  },
  {
   "cell_type": "code",
   "execution_count": 165,
   "metadata": {},
   "outputs": [
    {
     "name": "stdout",
     "output_type": "stream",
     "text": [
      "pyarrow.Table\n",
      "dep: string\n",
      "nom: string\n",
      "cp: string\n",
      "nb_hab_2010: int64\n",
      "nb_hab_1999: int64\n",
      "nb_hab_2012: int64\n",
      "dens: int64\n",
      "surf: double\n",
      "long: double\n",
      "lat: double\n",
      "alt_min: double\n",
      "alt_max: double\n",
      "----\n",
      "dep: [[\"74\"]]\n",
      "nom: [[\"Annecy\"]]\n",
      "cp: [[\"74000\"]]\n",
      "nb_hab_2010: [[50379]]\n",
      "nb_hab_1999: [[50324]]\n",
      "nb_hab_2012: [[50100]]\n",
      "dens: [[3690]]\n",
      "surf: [[13.65]]\n",
      "long: [[6.11667]]\n",
      "lat: [[45.9]]\n",
      "...\n"
     ]
    }
   ],
   "source": [
    "print(informationCity(tableVilles, 'Annecy'))"
   ]
  },
  {
   "cell_type": "code",
   "execution_count": 166,
   "metadata": {},
   "outputs": [],
   "source": [
    "def informationDepartment(table, department):\n",
    "    res = table.filter(pa.compute.equal(table['dep'], department))\n",
    "    df = res.to_pandas()\n",
    "    sorted_df = df.sort_values(by='nom')\n",
    "    sorted_table = fromDFToTable(sorted_df)\n",
    "    return sorted_table"
   ]
  },
  {
   "cell_type": "code",
   "execution_count": 167,
   "metadata": {},
   "outputs": [
    {
     "name": "stdout",
     "output_type": "stream",
     "text": [
      "pyarrow.Table\n",
      "dep: string\n",
      "nom: string\n",
      "cp: string\n",
      "nb_hab_2010: int64\n",
      "nb_hab_1999: int64\n",
      "nb_hab_2012: int64\n",
      "dens: int64\n",
      "surf: double\n",
      "long: double\n",
      "lat: double\n",
      "alt_min: double\n",
      "alt_max: double\n",
      "__index_level_0__: int64\n",
      "----\n",
      "dep: [[\"74\",\"74\",\"74\",\"74\",\"74\",...,\"74\",\"74\",\"74\",\"74\",\"74\"]]\n",
      "nom: [[\"Abondance\",\"Alby-sur-Chéran\",\"Alex\",\"Allinges\",\"Allonzier-la-Caille\",...,\"Épagny\",\"Étercy\",\"Étrembières\",\"Évian-les-Bains\",\"Évires\"]]\n",
      "cp: [[\"74360\",\"74540\",\"74290\",\"74200\",\"74350\",...,\"74330\",\"74150\",\"74100\",\"74500\",\"74570\"]]\n",
      "nb_hab_2010: [[1342,2012,985,3982,1637,...,3899,698,1887,8142,1294]]\n",
      "nb_hab_1999: [[1297,1631,791,3022,1080,...,3233,630,1429,7278,1062]]\n",
      "nb_hab_2012: [[1300,2000,1000,3800,1500,...,3800,700,1800,8100,1300]]\n",
      "dens: [[22,306,57,265,170,...,575,153,347,1897,66]]\n",
      "surf: [[58.84,6.56,17.02,15.01,9.62,...,6.77,4.55,5.43,4.29,19.49]]\n",
      "long: [[6.73333,6.02084,6.23333,6.46667,6.11667,...,6.1,6,6.23333,6.58333,6.23333]]\n",
      "lat: [[46.2833,45.8167,45.8833,46.3333,46,...,45.9333,45.8833,46.1833,46.3833,46.0333]]\n",
      "...\n"
     ]
    }
   ],
   "source": [
    "print(informationDepartment(tableVilles, '74'))"
   ]
  },
  {
   "attachments": {},
   "cell_type": "markdown",
   "metadata": {},
   "source": [
    "## Exercice 6"
   ]
  },
  {
   "cell_type": "code",
   "execution_count": 169,
   "metadata": {},
   "outputs": [
    {
     "name": "stdout",
     "output_type": "stream",
     "text": [
      "Nombre moyen d'habitants en 2012 : 1751.080272479564\n"
     ]
    }
   ],
   "source": [
    "nbHab2012 =  getColumnTable(tableVilles, 'nb_hab_2012')\n",
    "nombreMoyenHab2012 = getSumColumn(nbHab2012).as_py()/getCountColumn(nbHab2012).as_py()\n",
    "\n",
    "print(\"Nombre moyen d'habitants en 2012 : \" + str(nombreMoyenHab2012))"
   ]
  },
  {
   "cell_type": "code",
   "execution_count": 168,
   "metadata": {},
   "outputs": [
    {
     "name": "stdout",
     "output_type": "stream",
     "text": [
      "Nombre moyen d'habitants en 2012 pour le dep. 74 : 2437.074829931973\n"
     ]
    }
   ],
   "source": [
    "dep74Info = informationDepartment(tableVilles, '74')\n",
    "\n",
    "t = dep74Info.group_by(\"dep\").aggregate([(\"nb_hab_2012\", \"sum\"), (\"nb_hab_2012\", \"count\")])\n",
    "t = t.to_pandas()\n",
    "mean = (t.loc[0][\"nb_hab_2012_sum\"])/(t.loc[0][\"nb_hab_2012_count\"])\n",
    "print(\"Nombre moyen d'habitants en 2012 pour le dep. 74 : \" + str(mean))"
   ]
  },
  {
   "cell_type": "code",
   "execution_count": null,
   "metadata": {},
   "outputs": [],
   "source": []
  }
 ],
 "metadata": {
  "kernelspec": {
   "display_name": "Python 3",
   "language": "python",
   "name": "python3"
  },
  "language_info": {
   "codemirror_mode": {
    "name": "ipython",
    "version": 3
   },
   "file_extension": ".py",
   "mimetype": "text/x-python",
   "name": "python",
   "nbconvert_exporter": "python",
   "pygments_lexer": "ipython3",
   "version": "3.10.8"
  },
  "orig_nbformat": 4,
  "vscode": {
   "interpreter": {
    "hash": "8e7cd28709550f672c28f90e52c3bd58bea8e8759b20f54965a68fdf78f56cd5"
   }
  }
 },
 "nbformat": 4,
 "nbformat_minor": 2
}
